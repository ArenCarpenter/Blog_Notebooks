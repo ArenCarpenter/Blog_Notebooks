{
 "cells": [
  {
   "cell_type": "code",
   "execution_count": 1,
   "metadata": {},
   "outputs": [],
   "source": [
    "import pandas as pd\n",
    "import numpy as np\n",
    "import matplotlib.pyplot as plt\n",
    "import seaborn as sns"
   ]
  },
  {
   "cell_type": "code",
   "execution_count": 2,
   "metadata": {},
   "outputs": [],
   "source": [
    "dice = [1, 2, 3, 4, 5, 6]\n",
    "outcomes = 1/6"
   ]
  },
  {
   "cell_type": "code",
   "execution_count": 3,
   "metadata": {},
   "outputs": [
    {
     "data": {
      "image/png": "[encoded data removed]",
      "text/plain": [
       "<Figure size 720x576 with 1 Axes>"
      ]
     },
     "metadata": {
      "needs_background": "light"
     },
     "output_type": "display_data"
    }
   ],
   "source": [
    "plt.figure(figsize=(10,8))\n",
    "plt.bar(dice, outcomes, color='cadetblue')\n",
    "plt.title('Idealized Dice Outcomes')\n",
    "plt.xlabel('Dice Rolls')\n",
    "plt.ylabel('Probability (1/6)')\n",
    "plt.savefig('Ideal_Dice')\n"
   ]
  },
  {
   "cell_type": "code",
   "execution_count": 4,
   "metadata": {},
   "outputs": [],
   "source": [
    "num_throws = 100\n",
    "outcomes100 = np.zeros(num_throws)\n",
    "for i in range(num_throws):\n",
    "    # let's roll the die\n",
    "    outcome = np.random.choice(['1', '2', '3', '4', '5', '6'])\n",
    "    outcomes100[i] = outcome\n",
    "val100, cnt100 = np.unique(outcomes100, return_counts=True)\n",
    "prop100 = cnt100 / len(outcomes100)\n",
    "\n",
    "##\n",
    "num_throws = 1000\n",
    "outcomes1000 = np.zeros(num_throws)\n",
    "for i in range(num_throws):\n",
    "    # let's roll the die\n",
    "    outcome = np.random.choice(['1', '2', '3', '4', '5', '6'])\n",
    "    outcomes1000[i] = outcome\n",
    "val1000, cnt1000 = np.unique(outcomes1000, return_counts=True)\n",
    "prop1000 = cnt1000 / len(outcomes1000)\n",
    "\n",
    "##\n",
    "num_throws = 10000\n",
    "outcomes10000 = np.zeros(num_throws)\n",
    "for i in range(num_throws):\n",
    "    # let's roll the die\n",
    "    outcome = np.random.choice(['1', '2', '3', '4', '5', '6'])\n",
    "    outcomes10000[i] = outcome\n",
    "val10000, cnt10000 = np.unique(outcomes10000, return_counts=True)\n",
    "prop10000 = cnt10000 / len(outcomes10000)\n",
    "\n",
    "##\n",
    "num_throws = 100000\n",
    "outcomes100000 = np.zeros(num_throws)\n",
    "for i in range(num_throws):\n",
    "    # let's roll the die\n",
    "    outcome = np.random.choice(['1', '2', '3', '4', '5', '6'])\n",
    "    outcomes100000[i] = outcome\n",
    "val100000, cnt100000 = np.unique(outcomes100000, return_counts=True)\n",
    "prop100000 = cnt100000 / len(outcomes100000)"
   ]
  },
  {
   "cell_type": "code",
   "execution_count": 5,
   "metadata": {},
   "outputs": [
    {
     "data": {
      "image/png": "[encoded data removed]",
      "text/plain": [
       "<Figure size 864x720 with 4 Axes>"
      ]
     },
     "metadata": {
      "needs_background": "light"
     },
     "output_type": "display_data"
    }
   ],
   "source": [
    "fig, ax = plt.subplots(2, 2, sharex=True, sharey=True, figsize=(12, 10))\n",
    "ax[0, 0].bar(val100, prop100, color='cadetblue') #row=0, col=0\n",
    "ax[0, 1].bar(val1000, prop1000, color='cadetblue') #row=0, col=1\n",
    "ax[1, 0].bar(val10000, prop10000, color='cadetblue') #row=1, col=0\n",
    "ax[1, 1].bar(val100000, prop100000, color='cadetblue') #row=1, col=1\n",
    "\n",
    "ax[0][0].title.set_text('100 Throws')\n",
    "ax[0][1].title.set_text('1,000 Throws')\n",
    "ax[1][0].title.set_text('10,000 Throws')\n",
    "ax[1][1].title.set_text('100,000 Throws')\n",
    "plt.setp(ax[-1, :], xlabel='Dice Rolls')\n",
    "plt.setp(ax[:, 0], ylabel='Probability')\n",
    "\n",
    "plt.show()"
   ]
  },
  {
   "cell_type": "code",
   "execution_count": 6,
   "metadata": {},
   "outputs": [
    {
     "data": {
      "text/plain": [
       "3.5"
      ]
     },
     "execution_count": 6,
     "metadata": {},
     "output_type": "execute_result"
    }
   ],
   "source": [
    "1*(1/6) + 2*(1/6) + 3*(1/6) + 4*(1/6) + 5*(1/6) + 6*(1/6)"
   ]
  },
  {
   "cell_type": "code",
   "execution_count": 7,
   "metadata": {},
   "outputs": [
    {
     "data": {
      "text/plain": [
       "3.5"
      ]
     },
     "execution_count": 7,
     "metadata": {},
     "output_type": "execute_result"
    }
   ],
   "source": [
    "(1 + 2+ 3+ 4+ 5+ 6)/6"
   ]
  },
  {
   "cell_type": "code",
   "execution_count": 8,
   "metadata": {},
   "outputs": [
    {
     "data": {
      "text/plain": [
       "array([0.12, 0.19, 0.23, 0.12, 0.14, 0.2 ])"
      ]
     },
     "execution_count": 8,
     "metadata": {},
     "output_type": "execute_result"
    }
   ],
   "source": [
    "prop100"
   ]
  },
  {
   "cell_type": "code",
   "execution_count": 9,
   "metadata": {},
   "outputs": [
    {
     "data": {
      "text/plain": [
       "3.6100000000000003"
      ]
     },
     "execution_count": 9,
     "metadata": {},
     "output_type": "execute_result"
    }
   ],
   "source": [
    "1*(0.19) + 2*(0.13) + 3*(0.14) + 4*(0.19) + 5*(0.12) + 6*(0.23)"
   ]
  },
  {
   "cell_type": "code",
   "execution_count": 10,
   "metadata": {},
   "outputs": [
    {
     "data": {
      "text/plain": [
       "3.2579000000000002"
      ]
     },
     "execution_count": 10,
     "metadata": {},
     "output_type": "execute_result"
    }
   ],
   "source": [
    "0.19*((1-3.61)**2) + 0.13*((2-3.61)**2) + 0.14*((3-3.61)**2) + 0.19*((4-3.61)**2) + 0.12*((5-3.61)**2) + 0.23*((6-3.61)**2)"
   ]
  },
  {
   "cell_type": "code",
   "execution_count": 11,
   "metadata": {},
   "outputs": [],
   "source": [
    "data = pd.read_csv('weight-height.csv')"
   ]
  },
  {
   "cell_type": "code",
   "execution_count": 12,
   "metadata": {},
   "outputs": [
    {
     "data": {
      "text/html": [
       "<div>\n",
       "<style scoped>\n",
       "    .dataframe tbody tr th:only-of-type {\n",
       "        vertical-align: middle;\n",
       "    }\n",
       "\n",
       "    .dataframe tbody tr th {\n",
       "        vertical-align: top;\n",
       "    }\n",
       "\n",
       "    .dataframe thead th {\n",
       "        text-align: right;\n",
       "    }\n",
       "</style>\n",
       "<table border=\"1\" class=\"dataframe\">\n",
       "  <thead>\n",
       "    <tr style=\"text-align: right;\">\n",
       "      <th></th>\n",
       "      <th>Gender</th>\n",
       "      <th>Height</th>\n",
       "      <th>Weight</th>\n",
       "    </tr>\n",
       "  </thead>\n",
       "  <tbody>\n",
       "    <tr>\n",
       "      <th>0</th>\n",
       "      <td>Male</td>\n",
       "      <td>73.847017</td>\n",
       "      <td>241.893563</td>\n",
       "    </tr>\n",
       "    <tr>\n",
       "      <th>1</th>\n",
       "      <td>Male</td>\n",
       "      <td>68.781904</td>\n",
       "      <td>162.310473</td>\n",
       "    </tr>\n",
       "    <tr>\n",
       "      <th>2</th>\n",
       "      <td>Male</td>\n",
       "      <td>74.110105</td>\n",
       "      <td>212.740856</td>\n",
       "    </tr>\n",
       "    <tr>\n",
       "      <th>3</th>\n",
       "      <td>Male</td>\n",
       "      <td>71.730978</td>\n",
       "      <td>220.042470</td>\n",
       "    </tr>\n",
       "    <tr>\n",
       "      <th>4</th>\n",
       "      <td>Male</td>\n",
       "      <td>69.881796</td>\n",
       "      <td>206.349801</td>\n",
       "    </tr>\n",
       "    <tr>\n",
       "      <th>...</th>\n",
       "      <td>...</td>\n",
       "      <td>...</td>\n",
       "      <td>...</td>\n",
       "    </tr>\n",
       "    <tr>\n",
       "      <th>9995</th>\n",
       "      <td>Female</td>\n",
       "      <td>66.172652</td>\n",
       "      <td>136.777454</td>\n",
       "    </tr>\n",
       "    <tr>\n",
       "      <th>9996</th>\n",
       "      <td>Female</td>\n",
       "      <td>67.067155</td>\n",
       "      <td>170.867906</td>\n",
       "    </tr>\n",
       "    <tr>\n",
       "      <th>9997</th>\n",
       "      <td>Female</td>\n",
       "      <td>63.867992</td>\n",
       "      <td>128.475319</td>\n",
       "    </tr>\n",
       "    <tr>\n",
       "      <th>9998</th>\n",
       "      <td>Female</td>\n",
       "      <td>69.034243</td>\n",
       "      <td>163.852461</td>\n",
       "    </tr>\n",
       "    <tr>\n",
       "      <th>9999</th>\n",
       "      <td>Female</td>\n",
       "      <td>61.944246</td>\n",
       "      <td>113.649103</td>\n",
       "    </tr>\n",
       "  </tbody>\n",
       "</table>\n",
       "<p>10000 rows × 3 columns</p>\n",
       "</div>"
      ],
      "text/plain": [
       "      Gender     Height      Weight\n",
       "0       Male  73.847017  241.893563\n",
       "1       Male  68.781904  162.310473\n",
       "2       Male  74.110105  212.740856\n",
       "3       Male  71.730978  220.042470\n",
       "4       Male  69.881796  206.349801\n",
       "...      ...        ...         ...\n",
       "9995  Female  66.172652  136.777454\n",
       "9996  Female  67.067155  170.867906\n",
       "9997  Female  63.867992  128.475319\n",
       "9998  Female  69.034243  163.852461\n",
       "9999  Female  61.944246  113.649103\n",
       "\n",
       "[10000 rows x 3 columns]"
      ]
     },
     "execution_count": 12,
     "metadata": {},
     "output_type": "execute_result"
    }
   ],
   "source": [
    "data"
   ]
  },
  {
   "cell_type": "code",
   "execution_count": 14,
   "metadata": {},
   "outputs": [],
   "source": [
    "data.Height = data.Height / 12"
   ]
  },
  {
   "cell_type": "code",
   "execution_count": 15,
   "metadata": {},
   "outputs": [
    {
     "data": {
      "text/html": [
       "<div>\n",
       "<style scoped>\n",
       "    .dataframe tbody tr th:only-of-type {\n",
       "        vertical-align: middle;\n",
       "    }\n",
       "\n",
       "    .dataframe tbody tr th {\n",
       "        vertical-align: top;\n",
       "    }\n",
       "\n",
       "    .dataframe thead th {\n",
       "        text-align: right;\n",
       "    }\n",
       "</style>\n",
       "<table border=\"1\" class=\"dataframe\">\n",
       "  <thead>\n",
       "    <tr style=\"text-align: right;\">\n",
       "      <th></th>\n",
       "      <th>Gender</th>\n",
       "      <th>Height</th>\n",
       "      <th>Weight</th>\n",
       "    </tr>\n",
       "  </thead>\n",
       "  <tbody>\n",
       "    <tr>\n",
       "      <th>0</th>\n",
       "      <td>Male</td>\n",
       "      <td>6.153918</td>\n",
       "      <td>241.893563</td>\n",
       "    </tr>\n",
       "    <tr>\n",
       "      <th>1</th>\n",
       "      <td>Male</td>\n",
       "      <td>5.731825</td>\n",
       "      <td>162.310473</td>\n",
       "    </tr>\n",
       "    <tr>\n",
       "      <th>2</th>\n",
       "      <td>Male</td>\n",
       "      <td>6.175842</td>\n",
       "      <td>212.740856</td>\n",
       "    </tr>\n",
       "    <tr>\n",
       "      <th>3</th>\n",
       "      <td>Male</td>\n",
       "      <td>5.977582</td>\n",
       "      <td>220.042470</td>\n",
       "    </tr>\n",
       "    <tr>\n",
       "      <th>4</th>\n",
       "      <td>Male</td>\n",
       "      <td>5.823483</td>\n",
       "      <td>206.349801</td>\n",
       "    </tr>\n",
       "    <tr>\n",
       "      <th>...</th>\n",
       "      <td>...</td>\n",
       "      <td>...</td>\n",
       "      <td>...</td>\n",
       "    </tr>\n",
       "    <tr>\n",
       "      <th>9995</th>\n",
       "      <td>Female</td>\n",
       "      <td>5.514388</td>\n",
       "      <td>136.777454</td>\n",
       "    </tr>\n",
       "    <tr>\n",
       "      <th>9996</th>\n",
       "      <td>Female</td>\n",
       "      <td>5.588930</td>\n",
       "      <td>170.867906</td>\n",
       "    </tr>\n",
       "    <tr>\n",
       "      <th>9997</th>\n",
       "      <td>Female</td>\n",
       "      <td>5.322333</td>\n",
       "      <td>128.475319</td>\n",
       "    </tr>\n",
       "    <tr>\n",
       "      <th>9998</th>\n",
       "      <td>Female</td>\n",
       "      <td>5.752854</td>\n",
       "      <td>163.852461</td>\n",
       "    </tr>\n",
       "    <tr>\n",
       "      <th>9999</th>\n",
       "      <td>Female</td>\n",
       "      <td>5.162020</td>\n",
       "      <td>113.649103</td>\n",
       "    </tr>\n",
       "  </tbody>\n",
       "</table>\n",
       "<p>10000 rows × 3 columns</p>\n",
       "</div>"
      ],
      "text/plain": [
       "      Gender    Height      Weight\n",
       "0       Male  6.153918  241.893563\n",
       "1       Male  5.731825  162.310473\n",
       "2       Male  6.175842  212.740856\n",
       "3       Male  5.977582  220.042470\n",
       "4       Male  5.823483  206.349801\n",
       "...      ...       ...         ...\n",
       "9995  Female  5.514388  136.777454\n",
       "9996  Female  5.588930  170.867906\n",
       "9997  Female  5.322333  128.475319\n",
       "9998  Female  5.752854  163.852461\n",
       "9999  Female  5.162020  113.649103\n",
       "\n",
       "[10000 rows x 3 columns]"
      ]
     },
     "execution_count": 15,
     "metadata": {},
     "output_type": "execute_result"
    }
   ],
   "source": [
    "data"
   ]
  },
  {
   "cell_type": "code",
   "execution_count": 25,
   "metadata": {},
   "outputs": [
    {
     "data": {
      "image/png": "[encoded data removed]",
      "text/plain": [
       "<Figure size 720x576 with 1 Axes>"
      ]
     },
     "metadata": {
      "needs_background": "light"
     },
     "output_type": "display_data"
    }
   ],
   "source": [
    "import scipy.stats as stats\n",
    "# Create two vertical subplots sharing 15% and 85% of plot space\n",
    "# sharex allows sharing of axes i.e. building multiple plots on same axes\n",
    "fig, ax = plt.subplots(1, sharex=True, figsize = (10,8))\n",
    "\n",
    "sns.distplot(data.Height, \n",
    "             hist=True, hist_kws={\n",
    "                                  \"linewidth\": 1,\n",
    "                                  \"edgecolor\" :'black',\n",
    "                                  \"alpha\": 0.7, \n",
    "                                  \"color\":  \"w\",\n",
    "                                  \"label\": \"Histogram\",\n",
    "                                  },\n",
    "             kde=True, kde_kws = {'linewidth': 2,\n",
    "                                  'color': \"cadetblue\",\n",
    "                                  \"alpha\": 1,\n",
    "                                  'label':'Kernel Density Estimation Plot'\n",
    "                                 },\n",
    "             fit= stats.norm, fit_kws = {'color' : 'firebrick',\n",
    "                                         'label' : 'Parametric Fit',\n",
    "                                         \"alpha\": 1,\n",
    "                                          'linewidth':2},\n",
    "             ax=ax)\n",
    "ax.set_title('Density Estimations')\n",
    "plt.legend()\n",
    "plt.savefig('Density Estimate')"
   ]
  },
  {
   "cell_type": "code",
   "execution_count": null,
   "metadata": {},
   "outputs": [],
   "source": []
  }
 ],
 "metadata": {
  "kernelspec": {
   "display_name": "Python 3",
   "language": "python",
   "name": "python3"
  },
  "language_info": {
   "codemirror_mode": {
    "name": "ipython",
    "version": 3
   },
   "file_extension": ".py",
   "mimetype": "text/x-python",
   "name": "python",
   "nbconvert_exporter": "python",
   "pygments_lexer": "ipython3",
   "version": "3.7.6"
  }
 },
 "nbformat": 4,
 "nbformat_minor": 4
}
